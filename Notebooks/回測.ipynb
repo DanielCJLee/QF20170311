{
 "cells": [
  {
   "cell_type": "markdown",
   "metadata": {},
   "source": [
    "# 回測"
   ]
  },
  {
   "cell_type": "markdown",
   "metadata": {},
   "source": [
    "## 夏普率及最大虧損"
   ]
  },
  {
   "cell_type": "markdown",
   "metadata": {},
   "source": [
    "### 夏普率"
   ]
  },
  {
   "cell_type": "markdown",
   "metadata": {},
   "source": [
    "夏普率的定義：\n",
    "\n",
    "$$訊息比率=\\frac{超額報酬平均值}{超額報酬標準差}$$\n",
    "\n",
    "其中，\n",
    "\n",
    "$$超額報酬 = 投資組合報酬 - 比較基準報酬$$"
   ]
  },
  {
   "cell_type": "code",
   "execution_count": null,
   "metadata": {
    "collapsed": false
   },
   "outputs": [],
   "source": [
    "%pylab inline\n",
    "\n",
    "# Pandas v0.16 之前，使用下面這個\n",
    "#import pandas.io.data as web\n",
    "\n",
    "# Pandas v0.16 之後，使用下面這個\n",
    "import pandas_datareader.data as web\n",
    "\n",
    "from pandas import Series, DataFrame\n",
    "\n",
    "from datetime import datetime"
   ]
  },
  {
   "cell_type": "code",
   "execution_count": null,
   "metadata": {
    "collapsed": false
   },
   "outputs": [],
   "source": [
    "# 讀取從 1970/1/1 之後的股價資訊\n",
    "df=web.DataReader(\"TSLA\", 'yahoo', datetime(1970,1,1))"
   ]
  },
  {
   "cell_type": "code",
   "execution_count": null,
   "metadata": {
    "collapsed": true
   },
   "outputs": [],
   "source": [
    "#進場日期\n",
    "inDate = datetime(2016,2,10)\n",
    "#出場日期\n",
    "outDate = datetime(2016,4,6)"
   ]
  },
  {
   "cell_type": "code",
   "execution_count": null,
   "metadata": {
    "collapsed": false
   },
   "outputs": [],
   "source": [
    "dailyRet = df['Close'][inDate : outDate].pct_change()"
   ]
  },
  {
   "cell_type": "code",
   "execution_count": null,
   "metadata": {
    "collapsed": false
   },
   "outputs": [],
   "source": [
    "dailyRet.head()"
   ]
  },
  {
   "cell_type": "code",
   "execution_count": null,
   "metadata": {
    "collapsed": false
   },
   "outputs": [],
   "source": [
    "dailyRet.tail()"
   ]
  },
  {
   "cell_type": "code",
   "execution_count": null,
   "metadata": {
    "collapsed": true
   },
   "outputs": [],
   "source": [
    "#假設無風險利率為 4%\n",
    "#假設一年有252個交易日\n",
    "excessRet = dailyRet - 0.04/252\n",
    "\n",
    "sharpeRatio = sqrt(252.0)*mean(excessRet)/std(excessRet)"
   ]
  },
  {
   "cell_type": "code",
   "execution_count": null,
   "metadata": {
    "collapsed": false
   },
   "outputs": [],
   "source": [
    "sharpeRatio"
   ]
  },
  {
   "cell_type": "markdown",
   "metadata": {},
   "source": [
    "### 最大虧損額及最大虧損持續時間"
   ]
  },
  {
   "cell_type": "markdown",
   "metadata": {},
   "source": [
    "如果是多次進出的話，MaxDD跟MaxDDD怎麼計算？"
   ]
  },
  {
   "cell_type": "code",
   "execution_count": null,
   "metadata": {
    "collapsed": true
   },
   "outputs": [],
   "source": [
    "cumRet = cumprod(1+excessRet) - 1"
   ]
  },
  {
   "cell_type": "code",
   "execution_count": null,
   "metadata": {
    "collapsed": false
   },
   "outputs": [],
   "source": [
    "type(cumRet)"
   ]
  },
  {
   "cell_type": "code",
   "execution_count": null,
   "metadata": {
    "collapsed": false
   },
   "outputs": [],
   "source": [
    "# maxDD: maximum drawdown\n",
    "# maxDDD: maximum drawdown duration\n",
    "\n",
    "def calculateMaxDD(cumRet):\n",
    "    highwatermark = zeros(size(cumRet))\n",
    "    drawdownduration = zeros(size(cumRet))\n",
    "    drawdown = zeros(size(cumRet))\n",
    "    for t in range(2, cumRet.size):\n",
    "        highwatermark[t] = max(highwatermark[t-1], cumRet[t])\n",
    "        drawdown[t] = (1 + highwatermark[t]) / (1 + cumRet[t]) - 1\n",
    "        if (drawdown[t] == 0):\n",
    "            drawdownduration[t] = 0\n",
    "        else:\n",
    "            drawdownduration[t] = drawdownduration[t-1] + 1\n",
    "    maxDD = max(drawdown)\n",
    "    maxDDD = max(drawdownduration)\n",
    "    Series(drawdownduration).plot()\n",
    "    return maxDD, maxDDD"
   ]
  },
  {
   "cell_type": "code",
   "execution_count": null,
   "metadata": {
    "collapsed": false
   },
   "outputs": [],
   "source": [
    "calculateMaxDD(cumRet)"
   ]
  },
  {
   "cell_type": "code",
   "execution_count": null,
   "metadata": {
    "collapsed": false
   },
   "outputs": [],
   "source": [
    "cumRet.plot(style='ro-')"
   ]
  }
 ],
 "metadata": {
  "anaconda-cloud": {},
  "kernelspec": {
   "display_name": "Python [default]",
   "language": "python",
   "name": "python3"
  },
  "language_info": {
   "codemirror_mode": {
    "name": "ipython",
    "version": 3
   },
   "file_extension": ".py",
   "mimetype": "text/x-python",
   "name": "python",
   "nbconvert_exporter": "python",
   "pygments_lexer": "ipython3",
   "version": "3.5.2"
  }
 },
 "nbformat": 4,
 "nbformat_minor": 0
}
