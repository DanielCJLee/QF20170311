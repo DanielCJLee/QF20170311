{
 "cells": [
  {
   "cell_type": "markdown",
   "metadata": {},
   "source": [
    "# 土炮股票分析系統"
   ]
  },
  {
   "cell_type": "markdown",
   "metadata": {},
   "source": [
    "<img src=\"system.png\" />"
   ]
  },
  {
   "cell_type": "markdown",
   "metadata": {},
   "source": [
    "## 抓取公司資料"
   ]
  },
  {
   "cell_type": "code",
   "execution_count": 1,
   "metadata": {
    "collapsed": true
   },
   "outputs": [],
   "source": [
    "import pandas as pd"
   ]
  },
  {
   "cell_type": "code",
   "execution_count": 2,
   "metadata": {
    "collapsed": true
   },
   "outputs": [],
   "source": [
    "url = \"http://www.nasdaq.com/screening/companies-by-industry.aspx?exchange=NASDAQ&render=download\"\n",
    "data = pd.read_csv(url)"
   ]
  },
  {
   "cell_type": "code",
   "execution_count": 3,
   "metadata": {
    "collapsed": false
   },
   "outputs": [
    {
     "data": {
      "text/html": [
       "<div>\n",
       "<table border=\"1\" class=\"dataframe\">\n",
       "  <thead>\n",
       "    <tr style=\"text-align: right;\">\n",
       "      <th></th>\n",
       "      <th>Symbol</th>\n",
       "      <th>Name</th>\n",
       "      <th>LastSale</th>\n",
       "      <th>MarketCap</th>\n",
       "      <th>ADR TSO</th>\n",
       "      <th>IPOyear</th>\n",
       "      <th>Sector</th>\n",
       "      <th>Industry</th>\n",
       "      <th>Summary Quote</th>\n",
       "      <th>Unnamed: 9</th>\n",
       "    </tr>\n",
       "  </thead>\n",
       "  <tbody>\n",
       "    <tr>\n",
       "      <th>0</th>\n",
       "      <td>PIH</td>\n",
       "      <td>1347 Property Insurance Holdings, Inc.</td>\n",
       "      <td>7.6</td>\n",
       "      <td>4.527142e+07</td>\n",
       "      <td>n/a</td>\n",
       "      <td>2014</td>\n",
       "      <td>Finance</td>\n",
       "      <td>Property-Casualty Insurers</td>\n",
       "      <td>http://www.nasdaq.com/symbol/pih</td>\n",
       "      <td>NaN</td>\n",
       "    </tr>\n",
       "    <tr>\n",
       "      <th>1</th>\n",
       "      <td>FLWS</td>\n",
       "      <td>1-800 FLOWERS.COM, Inc.</td>\n",
       "      <td>10.3</td>\n",
       "      <td>6.753613e+08</td>\n",
       "      <td>n/a</td>\n",
       "      <td>1999</td>\n",
       "      <td>Consumer Services</td>\n",
       "      <td>Other Specialty Stores</td>\n",
       "      <td>http://www.nasdaq.com/symbol/flws</td>\n",
       "      <td>NaN</td>\n",
       "    </tr>\n",
       "    <tr>\n",
       "      <th>2</th>\n",
       "      <td>FCCY</td>\n",
       "      <td>1st Constitution Bancorp (NJ)</td>\n",
       "      <td>18.1</td>\n",
       "      <td>1.452949e+08</td>\n",
       "      <td>n/a</td>\n",
       "      <td>n/a</td>\n",
       "      <td>Finance</td>\n",
       "      <td>Savings Institutions</td>\n",
       "      <td>http://www.nasdaq.com/symbol/fccy</td>\n",
       "      <td>NaN</td>\n",
       "    </tr>\n",
       "    <tr>\n",
       "      <th>3</th>\n",
       "      <td>SRCE</td>\n",
       "      <td>1st Source Corporation</td>\n",
       "      <td>45.6</td>\n",
       "      <td>1.226308e+09</td>\n",
       "      <td>n/a</td>\n",
       "      <td>n/a</td>\n",
       "      <td>Finance</td>\n",
       "      <td>Major Banks</td>\n",
       "      <td>http://www.nasdaq.com/symbol/srce</td>\n",
       "      <td>NaN</td>\n",
       "    </tr>\n",
       "    <tr>\n",
       "      <th>4</th>\n",
       "      <td>VNET</td>\n",
       "      <td>21Vianet Group, Inc.</td>\n",
       "      <td>5.71</td>\n",
       "      <td>3.309771e+08</td>\n",
       "      <td>57964466</td>\n",
       "      <td>2011</td>\n",
       "      <td>Technology</td>\n",
       "      <td>Computer Software: Programming, Data Processing</td>\n",
       "      <td>http://www.nasdaq.com/symbol/vnet</td>\n",
       "      <td>NaN</td>\n",
       "    </tr>\n",
       "  </tbody>\n",
       "</table>\n",
       "</div>"
      ],
      "text/plain": [
       "  Symbol                                    Name LastSale     MarketCap  \\\n",
       "0    PIH  1347 Property Insurance Holdings, Inc.      7.6  4.527142e+07   \n",
       "1   FLWS                 1-800 FLOWERS.COM, Inc.     10.3  6.753613e+08   \n",
       "2   FCCY           1st Constitution Bancorp (NJ)     18.1  1.452949e+08   \n",
       "3   SRCE                  1st Source Corporation     45.6  1.226308e+09   \n",
       "4   VNET                    21Vianet Group, Inc.     5.71  3.309771e+08   \n",
       "\n",
       "    ADR TSO IPOyear             Sector  \\\n",
       "0       n/a    2014            Finance   \n",
       "1       n/a    1999  Consumer Services   \n",
       "2       n/a     n/a            Finance   \n",
       "3       n/a     n/a            Finance   \n",
       "4  57964466    2011         Technology   \n",
       "\n",
       "                                          Industry  \\\n",
       "0                       Property-Casualty Insurers   \n",
       "1                           Other Specialty Stores   \n",
       "2                             Savings Institutions   \n",
       "3                                      Major Banks   \n",
       "4  Computer Software: Programming, Data Processing   \n",
       "\n",
       "                       Summary Quote  Unnamed: 9  \n",
       "0   http://www.nasdaq.com/symbol/pih         NaN  \n",
       "1  http://www.nasdaq.com/symbol/flws         NaN  \n",
       "2  http://www.nasdaq.com/symbol/fccy         NaN  \n",
       "3  http://www.nasdaq.com/symbol/srce         NaN  \n",
       "4  http://www.nasdaq.com/symbol/vnet         NaN  "
      ]
     },
     "execution_count": 3,
     "metadata": {},
     "output_type": "execute_result"
    }
   ],
   "source": [
    "data.head()"
   ]
  },
  {
   "cell_type": "code",
   "execution_count": 6,
   "metadata": {
    "collapsed": false
   },
   "outputs": [],
   "source": [
    "companylist = data['Symbol'][0:10].tolist()"
   ]
  },
  {
   "cell_type": "markdown",
   "metadata": {},
   "source": [
    "## 波動率選股"
   ]
  },
  {
   "cell_type": "code",
   "execution_count": 7,
   "metadata": {
    "collapsed": true
   },
   "outputs": [],
   "source": [
    "import pandas_datareader.data as web\n",
    "\n",
    "from datetime import datetime\n",
    "import numpy as np"
   ]
  },
  {
   "cell_type": "code",
   "execution_count": 9,
   "metadata": {
    "collapsed": false
   },
   "outputs": [],
   "source": [
    "def calculate(symbol):\n",
    "    df=web.DataReader(symbol, 'yahoo', datetime(2016,1,1))\n",
    "    dailyRet = df['Close'].pct_change()\n",
    "    return dailyRet.std() * np.sqrt(dailyRet.count())"
   ]
  },
  {
   "cell_type": "code",
   "execution_count": 10,
   "metadata": {
    "collapsed": false
   },
   "outputs": [
    {
     "data": {
      "text/plain": [
       "[(0.25783714378670841, 'SRCE'),\n",
       " (0.3124805208772693, 'FCCY'),\n",
       " (0.33096186965160107, 'JOBS'),\n",
       " (0.34097241273844719, 'CAFD'),\n",
       " (0.39445385991868348, 'AVHI'),\n",
       " (0.40187274471660905, 'PIH'),\n",
       " (0.42943106538227327, 'FLWS'),\n",
       " (0.43279924882919563, 'TWOU'),\n",
       " (0.43610691109647881, 'EGHT'),\n",
       " (0.61649467489464382, 'VNET')]"
      ]
     },
     "execution_count": 10,
     "metadata": {},
     "output_type": "execute_result"
    }
   ],
   "source": [
    "results = []\n",
    "for symbol in companylist:\n",
    "    vo = calculate(symbol)\n",
    "    results.append((vo, symbol))\n",
    "results.sort()\n",
    "results"
   ]
  },
  {
   "cell_type": "code",
   "execution_count": 15,
   "metadata": {
    "collapsed": false
   },
   "outputs": [
    {
     "data": {
      "text/plain": [
       "['SRCE', 'FCCY', 'JOBS', 'CAFD', 'AVHI']"
      ]
     },
     "execution_count": 15,
     "metadata": {},
     "output_type": "execute_result"
    }
   ],
   "source": [
    "computer_selected = np.array(results)[:, 1][:5].tolist()\n",
    "computer_selected"
   ]
  },
  {
   "cell_type": "markdown",
   "metadata": {},
   "source": [
    "# 加入自選股"
   ]
  },
  {
   "cell_type": "code",
   "execution_count": 16,
   "metadata": {
    "collapsed": true
   },
   "outputs": [],
   "source": [
    "self_selected = ['TSLA', 'GOOG', 'YHOO', 'MSFT', 'AAPL']"
   ]
  },
  {
   "cell_type": "code",
   "execution_count": 18,
   "metadata": {
    "collapsed": true
   },
   "outputs": [],
   "source": [
    "candidates = computer_selected + self_selected"
   ]
  },
  {
   "cell_type": "code",
   "execution_count": 19,
   "metadata": {
    "collapsed": true
   },
   "outputs": [],
   "source": [
    "candidates = set(candidates)"
   ]
  },
  {
   "cell_type": "code",
   "execution_count": 20,
   "metadata": {
    "collapsed": true
   },
   "outputs": [],
   "source": [
    "candidates = list(candidates)"
   ]
  },
  {
   "cell_type": "markdown",
   "metadata": {},
   "source": [
    "# 回測"
   ]
  },
  {
   "cell_type": "code",
   "execution_count": 52,
   "metadata": {
    "collapsed": true
   },
   "outputs": [],
   "source": [
    "# maxDD: maximum drawdown\n",
    "# maxDDD: maximum drawdown duration\n",
    "\n",
    "def calculateMaxDD(cumRet):\n",
    "    highwatermark = np.zeros(np.size(cumRet))\n",
    "    drawdownduration = np.zeros(np.size(cumRet))\n",
    "    drawdown = np.zeros(np.size(cumRet))\n",
    "    for t in range(2, cumRet.size):\n",
    "        highwatermark[t] = max(highwatermark[t-1], cumRet[t])\n",
    "        drawdown[t] = (1 + highwatermark[t]) / (1 + cumRet[t]) - 1\n",
    "        if (drawdown[t] == 0):\n",
    "            drawdownduration[t] = 0\n",
    "        else:\n",
    "            # 從日期來計算 MaxDDD 的天數\n",
    "            drawdownduration[t] = drawdownduration[t-1] + (cumRet.index[t]-cumRet.index[t-1]).days\n",
    "            #drawdownduration[t] = drawdownduration[t-1] + 1\n",
    "    maxDD = max(drawdown)\n",
    "    maxDDD = max(drawdownduration)\n",
    "    #Series(drawdownduration, index=cumRet.index).plot()\n",
    "    return maxDD, maxDDD"
   ]
  },
  {
   "cell_type": "code",
   "execution_count": 49,
   "metadata": {
    "collapsed": true
   },
   "outputs": [],
   "source": [
    "def indicators(df):\n",
    "    dailyRet = df['Close'].pct_change()\n",
    "    #假設無風險利率為 4%\n",
    "    #假設一年有252個交易日\n",
    "    excessRet = (dailyRet - 0.04/252)[df['positions']==1.0]\n",
    "    SharpeRatio = np.sqrt(252.0)*np.mean(excessRet)/np.std(excessRet)\n",
    "    \n",
    "    cumRet = np.cumprod(1+excessRet) - 1\n",
    "    \n",
    "    maxdd, maxddd = calculateMaxDD(cumRet)\n",
    "    \n",
    "    return SharpeRatio, maxdd, maxddd"
   ]
  },
  {
   "cell_type": "code",
   "execution_count": 50,
   "metadata": {
    "collapsed": true
   },
   "outputs": [],
   "source": [
    "def strategy(df):\n",
    "    # Donchian Channel\n",
    "    df['20d_high'] = np.round(pd.Series.rolling(df['Close'], window=20).max(), 2)\n",
    "    df['10d_low'] = np.round(pd.Series.rolling(df['Close'], window=10).min(), 2)\n",
    "\n",
    "    has_position = False\n",
    "    df['signals'] = np.zeros(df['Close'].shape)\n",
    "    for t in range(2, df['signals'].size):\n",
    "        if df['Close'][t] > df['20d_high'][t-1]:\n",
    "            if not has_position:\n",
    "                df.loc[df.index[t], 'signals'] = 1.0\n",
    "                has_position = True\n",
    "        elif df['Close'][t] < df['10d_low'][t-1]:\n",
    "            if has_position:\n",
    "                df.loc[df.index[t], 'signals'] = -1.0\n",
    "                has_position = False\n",
    "\n",
    "    df['positions'] = df['signals'].cumsum()\n",
    "    return df"
   ]
  },
  {
   "cell_type": "code",
   "execution_count": 24,
   "metadata": {
    "collapsed": false
   },
   "outputs": [],
   "source": [
    "all_data = {}\n",
    "\n",
    "for symbol in candidates:\n",
    "    all_data[symbol] = web.DataReader(symbol, 'yahoo', datetime(2016,1,1))"
   ]
  },
  {
   "cell_type": "code",
   "execution_count": 53,
   "metadata": {
    "collapsed": false
   },
   "outputs": [
    {
     "data": {
      "text/plain": [
       "[(4.7437238093013292, 0.028184773453298506, 41.0, 'AAPL'),\n",
       " (3.1906377133025217, 0.061363744885344795, 140.0, 'YHOO'),\n",
       " (3.0951853865829002, 0.063731057069693176, 80.0, 'SRCE'),\n",
       " (5.2871348417034438, 0.07171142504927519, 77.0, 'TSLA'),\n",
       " (1.6168150645512951, 0.062648284422384126, 88.0, 'GOOG'),\n",
       " (3.2011008420921683, 0.070477704348795189, 145.0, 'FCCY'),\n",
       " (3.0323807731038852, 0.042810886085439037, 60.0, 'MSFT'),\n",
       " (2.0307236938234143, 0.093937685286554329, 127.0, 'JOBS'),\n",
       " (3.3518546962135547, 0.080871012332741632, 77.0, 'AVHI'),\n",
       " (2.7822634509541655, 0.098059598858270203, 93.0, 'CAFD')]"
      ]
     },
     "execution_count": 53,
     "metadata": {},
     "output_type": "execute_result"
    }
   ],
   "source": [
    "results = []\n",
    "for symbol in candidates:\n",
    "    strategy(all_data[symbol])\n",
    "    SharpeRatio, maxdd, maxddd = indicators(all_data[symbol])\n",
    "    results.append((SharpeRatio, maxdd, maxddd, symbol))\n",
    "\n",
    "results"
   ]
  },
  {
   "cell_type": "code",
   "execution_count": 57,
   "metadata": {
    "collapsed": false
   },
   "outputs": [
    {
     "data": {
      "text/plain": [
       "[(5.2871348417034438, 0.07171142504927519, 77.0, 'TSLA'),\n",
       " (4.7437238093013292, 0.028184773453298506, 41.0, 'AAPL'),\n",
       " (3.3518546962135547, 0.080871012332741632, 77.0, 'AVHI'),\n",
       " (3.2011008420921683, 0.070477704348795189, 145.0, 'FCCY'),\n",
       " (3.1906377133025217, 0.061363744885344795, 140.0, 'YHOO'),\n",
       " (3.0951853865829002, 0.063731057069693176, 80.0, 'SRCE'),\n",
       " (3.0323807731038852, 0.042810886085439037, 60.0, 'MSFT'),\n",
       " (2.7822634509541655, 0.098059598858270203, 93.0, 'CAFD'),\n",
       " (2.0307236938234143, 0.093937685286554329, 127.0, 'JOBS'),\n",
       " (1.6168150645512951, 0.062648284422384126, 88.0, 'GOOG')]"
      ]
     },
     "execution_count": 57,
     "metadata": {},
     "output_type": "execute_result"
    }
   ],
   "source": [
    "sorted(results, reverse=True)"
   ]
  }
 ],
 "metadata": {
  "anaconda-cloud": {},
  "kernelspec": {
   "display_name": "Python [conda root]",
   "language": "python",
   "name": "conda-root-py"
  },
  "language_info": {
   "codemirror_mode": {
    "name": "ipython",
    "version": 3
   },
   "file_extension": ".py",
   "mimetype": "text/x-python",
   "name": "python",
   "nbconvert_exporter": "python",
   "pygments_lexer": "ipython3",
   "version": "3.5.2"
  }
 },
 "nbformat": 4,
 "nbformat_minor": 1
}
