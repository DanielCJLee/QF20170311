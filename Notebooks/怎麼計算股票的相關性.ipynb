{
 "cells": [
  {
   "cell_type": "markdown",
   "metadata": {},
   "source": [
    "# 怎麼計算兩支股票的相關性？"
   ]
  },
  {
   "cell_type": "markdown",
   "metadata": {},
   "source": [
    "底下是參考自 Wei Lin 的 Pandas 教學！"
   ]
  },
  {
   "cell_type": "code",
   "execution_count": 2,
   "metadata": {
    "collapsed": false
   },
   "outputs": [],
   "source": [
    "# 透過 參數對 計算出來的 彙總統計(如 相關係數和協方差)\n",
    "import pandas.io.data as web\n",
    "# from pandas_datareader import data, wb\n",
    "\n",
    "from pandas import DataFrame\n",
    "\n",
    "all_data = {}\n",
    "\n",
    "for ticker in ['AAPL', 'IBM', 'MSFT', 'GOOG']:\n",
    "    all_data[ticker] = web.get_data_yahoo(ticker, '1/1/2013', '1/1/2015')\n",
    "    \n",
    "price = DataFrame({tic: data['Adj Close'] for tic, data in all_data.items()})\n",
    "volume = DataFrame({tic: data['Volume'] for tic, data in all_data.items()})"
   ]
  },
  {
   "cell_type": "code",
   "execution_count": 3,
   "metadata": {
    "collapsed": false
   },
   "outputs": [
    {
     "data": {
      "text/html": [
       "<div>\n",
       "<table border=\"1\" class=\"dataframe\">\n",
       "  <thead>\n",
       "    <tr style=\"text-align: right;\">\n",
       "      <th></th>\n",
       "      <th>AAPL</th>\n",
       "      <th>GOOG</th>\n",
       "      <th>IBM</th>\n",
       "      <th>MSFT</th>\n",
       "    </tr>\n",
       "    <tr>\n",
       "      <th>Date</th>\n",
       "      <th></th>\n",
       "      <th></th>\n",
       "      <th></th>\n",
       "      <th></th>\n",
       "    </tr>\n",
       "  </thead>\n",
       "  <tbody>\n",
       "    <tr>\n",
       "      <th>2014-12-24</th>\n",
       "      <td>-0.004709</td>\n",
       "      <td>-0.003430</td>\n",
       "      <td>-0.002589</td>\n",
       "      <td>-0.006398</td>\n",
       "    </tr>\n",
       "    <tr>\n",
       "      <th>2014-12-26</th>\n",
       "      <td>0.017677</td>\n",
       "      <td>0.009948</td>\n",
       "      <td>0.003213</td>\n",
       "      <td>-0.005401</td>\n",
       "    </tr>\n",
       "    <tr>\n",
       "      <th>2014-12-29</th>\n",
       "      <td>-0.000702</td>\n",
       "      <td>-0.006928</td>\n",
       "      <td>-0.011273</td>\n",
       "      <td>-0.008981</td>\n",
       "    </tr>\n",
       "    <tr>\n",
       "      <th>2014-12-30</th>\n",
       "      <td>-0.012203</td>\n",
       "      <td>0.000170</td>\n",
       "      <td>-0.002866</td>\n",
       "      <td>-0.009062</td>\n",
       "    </tr>\n",
       "    <tr>\n",
       "      <th>2014-12-31</th>\n",
       "      <td>-0.019019</td>\n",
       "      <td>-0.007579</td>\n",
       "      <td>0.002437</td>\n",
       "      <td>-0.012122</td>\n",
       "    </tr>\n",
       "  </tbody>\n",
       "</table>\n",
       "</div>"
      ],
      "text/plain": [
       "                AAPL      GOOG       IBM      MSFT\n",
       "Date                                              \n",
       "2014-12-24 -0.004709 -0.003430 -0.002589 -0.006398\n",
       "2014-12-26  0.017677  0.009948  0.003213 -0.005401\n",
       "2014-12-29 -0.000702 -0.006928 -0.011273 -0.008981\n",
       "2014-12-30 -0.012203  0.000170 -0.002866 -0.009062\n",
       "2014-12-31 -0.019019 -0.007579  0.002437 -0.012122"
      ]
     },
     "execution_count": 3,
     "metadata": {},
     "output_type": "execute_result"
    }
   ],
   "source": [
    "# 百分比變化\n",
    "returns = price.pct_change()\n",
    "returns.tail()"
   ]
  },
  {
   "cell_type": "code",
   "execution_count": 4,
   "metadata": {
    "collapsed": false
   },
   "outputs": [
    {
     "data": {
      "text/plain": [
       "0.26199989702339532"
      ]
     },
     "execution_count": 4,
     "metadata": {},
     "output_type": "execute_result"
    }
   ],
   "source": [
    "# corr() 用來計算相關係數\n",
    "returns.MSFT.corr(returns.IBM)"
   ]
  },
  {
   "cell_type": "code",
   "execution_count": 5,
   "metadata": {
    "collapsed": false
   },
   "outputs": [
    {
     "data": {
      "text/plain": [
       "4.0951205708951183e-05"
      ]
     },
     "execution_count": 5,
     "metadata": {},
     "output_type": "execute_result"
    }
   ],
   "source": [
    "# cov()用來計算協方差\n",
    "returns.MSFT.cov(returns.IBM)"
   ]
  },
  {
   "cell_type": "code",
   "execution_count": 6,
   "metadata": {
    "collapsed": false
   },
   "outputs": [
    {
     "data": {
      "text/html": [
       "<div>\n",
       "<table border=\"1\" class=\"dataframe\">\n",
       "  <thead>\n",
       "    <tr style=\"text-align: right;\">\n",
       "      <th></th>\n",
       "      <th>AAPL</th>\n",
       "      <th>GOOG</th>\n",
       "      <th>IBM</th>\n",
       "      <th>MSFT</th>\n",
       "    </tr>\n",
       "  </thead>\n",
       "  <tbody>\n",
       "    <tr>\n",
       "      <th>AAPL</th>\n",
       "      <td>1.000000</td>\n",
       "      <td>0.168597</td>\n",
       "      <td>0.140436</td>\n",
       "      <td>0.135613</td>\n",
       "    </tr>\n",
       "    <tr>\n",
       "      <th>GOOG</th>\n",
       "      <td>0.168597</td>\n",
       "      <td>1.000000</td>\n",
       "      <td>0.275024</td>\n",
       "      <td>0.327994</td>\n",
       "    </tr>\n",
       "    <tr>\n",
       "      <th>IBM</th>\n",
       "      <td>0.140436</td>\n",
       "      <td>0.275024</td>\n",
       "      <td>1.000000</td>\n",
       "      <td>0.262000</td>\n",
       "    </tr>\n",
       "    <tr>\n",
       "      <th>MSFT</th>\n",
       "      <td>0.135613</td>\n",
       "      <td>0.327994</td>\n",
       "      <td>0.262000</td>\n",
       "      <td>1.000000</td>\n",
       "    </tr>\n",
       "  </tbody>\n",
       "</table>\n",
       "</div>"
      ],
      "text/plain": [
       "          AAPL      GOOG       IBM      MSFT\n",
       "AAPL  1.000000  0.168597  0.140436  0.135613\n",
       "GOOG  0.168597  1.000000  0.275024  0.327994\n",
       "IBM   0.140436  0.275024  1.000000  0.262000\n",
       "MSFT  0.135613  0.327994  0.262000  1.000000"
      ]
     },
     "execution_count": 6,
     "metadata": {},
     "output_type": "execute_result"
    }
   ],
   "source": [
    "# DataFrame的 corr(), cov() 將會返回相同形狀的矩陣\n",
    "returns.corr()"
   ]
  },
  {
   "cell_type": "code",
   "execution_count": 7,
   "metadata": {
    "collapsed": false
   },
   "outputs": [
    {
     "data": {
      "text/html": [
       "<div>\n",
       "<table border=\"1\" class=\"dataframe\">\n",
       "  <thead>\n",
       "    <tr style=\"text-align: right;\">\n",
       "      <th></th>\n",
       "      <th>AAPL</th>\n",
       "      <th>GOOG</th>\n",
       "      <th>IBM</th>\n",
       "      <th>MSFT</th>\n",
       "    </tr>\n",
       "  </thead>\n",
       "  <tbody>\n",
       "    <tr>\n",
       "      <th>AAPL</th>\n",
       "      <td>0.000253</td>\n",
       "      <td>0.000036</td>\n",
       "      <td>0.000025</td>\n",
       "      <td>0.000030</td>\n",
       "    </tr>\n",
       "    <tr>\n",
       "      <th>GOOG</th>\n",
       "      <td>0.000036</td>\n",
       "      <td>0.000185</td>\n",
       "      <td>0.000042</td>\n",
       "      <td>0.000062</td>\n",
       "    </tr>\n",
       "    <tr>\n",
       "      <th>IBM</th>\n",
       "      <td>0.000025</td>\n",
       "      <td>0.000042</td>\n",
       "      <td>0.000127</td>\n",
       "      <td>0.000041</td>\n",
       "    </tr>\n",
       "    <tr>\n",
       "      <th>MSFT</th>\n",
       "      <td>0.000030</td>\n",
       "      <td>0.000062</td>\n",
       "      <td>0.000041</td>\n",
       "      <td>0.000193</td>\n",
       "    </tr>\n",
       "  </tbody>\n",
       "</table>\n",
       "</div>"
      ],
      "text/plain": [
       "          AAPL      GOOG       IBM      MSFT\n",
       "AAPL  0.000253  0.000036  0.000025  0.000030\n",
       "GOOG  0.000036  0.000185  0.000042  0.000062\n",
       "IBM   0.000025  0.000042  0.000127  0.000041\n",
       "MSFT  0.000030  0.000062  0.000041  0.000193"
      ]
     },
     "execution_count": 7,
     "metadata": {},
     "output_type": "execute_result"
    }
   ],
   "source": [
    "returns.cov()"
   ]
  },
  {
   "cell_type": "code",
   "execution_count": 8,
   "metadata": {
    "collapsed": false
   },
   "outputs": [
    {
     "data": {
      "text/plain": [
       "AAPL    0.140436\n",
       "GOOG    0.275024\n",
       "IBM     1.000000\n",
       "MSFT    0.262000\n",
       "dtype: float64"
      ]
     },
     "execution_count": 8,
     "metadata": {},
     "output_type": "execute_result"
    }
   ],
   "source": [
    "# 利用DataFrame的 corrwith()方法，可以計算列或行 跟另外一個Series或DataFrame之間的相關係數\n",
    "returns.corrwith(returns.IBM)"
   ]
  },
  {
   "cell_type": "code",
   "execution_count": 9,
   "metadata": {
    "collapsed": false
   },
   "outputs": [
    {
     "data": {
      "text/plain": [
       "AAPL   -0.134204\n",
       "GOOG    0.231548\n",
       "IBM    -0.343626\n",
       "MSFT   -0.025271\n",
       "dtype: float64"
      ]
     },
     "execution_count": 9,
     "metadata": {},
     "output_type": "execute_result"
    }
   ],
   "source": [
    "returns.corrwith(volume)"
   ]
  }
 ],
 "metadata": {
  "kernelspec": {
   "display_name": "Python [conda root]",
   "language": "python",
   "name": "conda-root-py"
  },
  "language_info": {
   "codemirror_mode": {
    "name": "ipython",
    "version": 3
   },
   "file_extension": ".py",
   "mimetype": "text/x-python",
   "name": "python",
   "nbconvert_exporter": "python",
   "pygments_lexer": "ipython3",
   "version": "3.5.2"
  }
 },
 "nbformat": 4,
 "nbformat_minor": 0
}
